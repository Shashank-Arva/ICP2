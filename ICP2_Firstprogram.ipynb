{
 "cells": [
  {
   "cell_type": "code",
   "execution_count": 1,
   "id": "0d03cece-43e7-4e13-bf1f-7c54ae3e77fc",
   "metadata": {},
   "outputs": [
    {
     "name": "stdin",
     "output_type": "stream",
     "text": [
      "Enter your first name:  Shashank\n",
      "Enter your last name:  Arva\n"
     ]
    },
    {
     "name": "stdout",
     "output_type": "stream",
     "text": [
      "Full name: Shashank Arva\n",
      "Alternate characters in the full name: Sahn ra\n"
     ]
    }
   ],
   "source": [
    "def fullname(first_name, last_name):\n",
    "    myfull_name = f\"{first_name} {last_name}\"\n",
    "    return myfull_name\n",
    "\n",
    "def string_alternative(myfull_name):\n",
    "    return myfull_name[::2]\n",
    "\n",
    "def main():\n",
    "    first_name = input(\"Enter your first name: \")\n",
    "    last_name = input(\"Enter your last name: \")\n",
    "\n",
    "    myfull_name = fullname(first_name, last_name)\n",
    "    print(\"Full name:\", myfull_name)\n",
    "\n",
    "    alternate_chars = string_alternative(myfull_name)\n",
    "    print(\"Alternate characters in the full name:\", alternate_chars)\n",
    "\n",
    "if __name__ == \"__main__\":\n",
    "    main()"
   ]
  },
  {
   "cell_type": "code",
   "execution_count": null,
   "id": "1d761dc0-d904-4c6b-894c-139706f265b1",
   "metadata": {},
   "outputs": [],
   "source": []
  }
 ],
 "metadata": {
  "kernelspec": {
   "display_name": "Python 3 (ipykernel)",
   "language": "python",
   "name": "python3"
  },
  "language_info": {
   "codemirror_mode": {
    "name": "ipython",
    "version": 3
   },
   "file_extension": ".py",
   "mimetype": "text/x-python",
   "name": "python",
   "nbconvert_exporter": "python",
   "pygments_lexer": "ipython3",
   "version": "3.12.1"
  }
 },
 "nbformat": 4,
 "nbformat_minor": 5
}
