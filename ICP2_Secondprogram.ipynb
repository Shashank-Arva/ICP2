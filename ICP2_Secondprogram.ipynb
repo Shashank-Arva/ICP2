{
 "cells": [
  {
   "cell_type": "code",
   "execution_count": 3,
   "id": "30f11f2d-83d9-4b2d-8ded-5afadfed45c4",
   "metadata": {},
   "outputs": [
    {
     "name": "stdout",
     "output_type": "stream",
     "text": [
      "Input:\n",
      "Python Course\n",
      "Deep Learning Course\n",
      "\n",
      "Word_Count:\n",
      "Python: 1\n",
      "Course: 2\n",
      "Deep: 1\n",
      "Learning: 1\n"
     ]
    }
   ],
   "source": [
    "from collections import Counter\n",
    "\n",
    "with open('input.txt', 'r') as file:\n",
    "    lines = file.readlines()\n",
    "\n",
    "word_counts = Counter()\n",
    "\n",
    "for line in lines:\n",
    "    words = line.strip().split()\n",
    "    word_counts.update(words)\n",
    "print(\"Input:\")\n",
    "for line in lines:\n",
    "    print(line.strip())\n",
    "\n",
    "print(\"\\nWord_Count:\")\n",
    "for word, count in word_counts.items():\n",
    "    print(f\"{word}: {count}\")\n",
    "\n",
    "with open('output.txt', 'w') as output_file:\n",
    "    output_file.write(\"Input:\\n\")\n",
    "    output_file.writelines(lines)\n",
    "    output_file.write(\"\\nWord_Count:\\n\")\n",
    "    for word, count in word_counts.items():\n",
    "        output_file.write(f\"{word}: {count}\\n\")"
   ]
  },
  {
   "cell_type": "code",
   "execution_count": null,
   "id": "00cfdb30-4762-4be7-89f7-a64ec0d94fd8",
   "metadata": {},
   "outputs": [],
   "source": []
  }
 ],
 "metadata": {
  "kernelspec": {
   "display_name": "Python 3 (ipykernel)",
   "language": "python",
   "name": "python3"
  },
  "language_info": {
   "codemirror_mode": {
    "name": "ipython",
    "version": 3
   },
   "file_extension": ".py",
   "mimetype": "text/x-python",
   "name": "python",
   "nbconvert_exporter": "python",
   "pygments_lexer": "ipython3",
   "version": "3.12.1"
  }
 },
 "nbformat": 4,
 "nbformat_minor": 5
}
