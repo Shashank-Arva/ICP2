{
 "cells": [
  {
   "cell_type": "code",
   "execution_count": 2,
   "id": "07d4861c-78c3-4804-ae35-7b04ea8ad472",
   "metadata": {},
   "outputs": [
    {
     "name": "stdout",
     "output_type": "stream",
     "text": [
      "Input:\n",
      "Python Course\n",
      "Deep Learning Course\n",
      "\n",
      "Word_Count:\n",
      "Python: 1\n",
      "Course: 2\n",
      "Deep: 1\n",
      "Learning: 1\n"
     ]
    }
   ],
   "source": [
    "from collections import Counter\n",
    "\n",
    "def count_words_per_line(line, word_counts):\n",
    "    words = line.strip().split()\n",
    "    word_counts.update(words)\n",
    "\n",
    "def print_input_lines(lines):\n",
    "    print(\"Input:\")\n",
    "    for line in lines:\n",
    "        print(line.strip())\n",
    "\n",
    "def print_word_count(word_counts):\n",
    "    print(\"\\nWord_Count:\")\n",
    "    for word, count in word_counts.items():\n",
    "        print(f\"{word}: {count}\")\n",
    "\n",
    "def main():\n",
    "    input_filename = 'input.txt'\n",
    "    output_filename = 'output.txt'\n",
    "\n",
    "    with open(input_filename, 'r') as file:\n",
    "        lines = file.readlines()\n",
    "\n",
    "    word_counts = Counter()\n",
    "\n",
    "    for line in lines:\n",
    "        count_words_per_line(line, word_counts)\n",
    "\n",
    "    print_input_lines(lines)\n",
    "    print_word_count(word_counts)\n",
    "\n",
    "    with open(output_filename, 'w') as output_file:\n",
    "        output_file.write(\"Input:\\n\")\n",
    "        output_file.writelines(lines)\n",
    "        output_file.write(\"\\nWord_Count:\\n\")\n",
    "        for word, count in word_counts.items():\n",
    "            output_file.write(f\"{word}: {count}\\n\")\n",
    "\n",
    "if __name__ == \"__main__\":\n",
    "    main()\n"
   ]
  },
  {
   "cell_type": "code",
   "execution_count": null,
   "id": "741bf79f-06c7-4e31-9442-87f8e4a0ee66",
   "metadata": {},
   "outputs": [],
   "source": []
  }
 ],
 "metadata": {
  "kernelspec": {
   "display_name": "Python 3 (ipykernel)",
   "language": "python",
   "name": "python3"
  },
  "language_info": {
   "codemirror_mode": {
    "name": "ipython",
    "version": 3
   },
   "file_extension": ".py",
   "mimetype": "text/x-python",
   "name": "python",
   "nbconvert_exporter": "python",
   "pygments_lexer": "ipython3",
   "version": "3.12.1"
  }
 },
 "nbformat": 4,
 "nbformat_minor": 5
}
