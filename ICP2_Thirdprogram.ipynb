{
 "cells": [
  {
   "cell_type": "code",
   "execution_count": 1,
   "id": "34178e7e-4b2f-48c2-87de-9cc2ce80ce05",
   "metadata": {},
   "outputs": [
    {
     "name": "stdin",
     "output_type": "stream",
     "text": [
      "Enter the number of customers:  2\n",
      "Enter height for customer 1 in inches:  60\n",
      "Enter height for customer 2 in inches:  64\n"
     ]
    },
    {
     "name": "stdout",
     "output_type": "stream",
     "text": [
      "Heights in centimeters using Nested Loop: [152.4, 162.56]\n",
      "Heights in centimeters using List Comprehension: [152.4, 162.56]\n"
     ]
    }
   ],
   "source": [
    "def convert_heights_nested_loop(height_inches):\n",
    "    height_centimeters = []\n",
    "\n",
    "    for inch in height_inches:\n",
    "        cm = round(inch * 2.54, 2)\n",
    "        height_centimeters.append(cm)\n",
    "\n",
    "    return height_centimeters\n",
    "\n",
    "def convert_heights_list_comprehension(height_inches):\n",
    "    height_centimeters = [round(inch * 2.54, 2) for inch in height_inches]\n",
    "\n",
    "    return height_centimeters\n",
    "\n",
    "def get_customer_heights(num_customers):\n",
    "    heights = []\n",
    "    for i in range(num_customers):\n",
    "        height = float(input(f\"Enter height for customer {i+1} in inches: \"))\n",
    "        heights.append(height)\n",
    "    return heights\n",
    "\n",
    "def main():\n",
    "    num_customers = int(input(\"Enter the number of customers: \"))\n",
    "    customer_heights = get_customer_heights(num_customers)\n",
    "\n",
    "    heights_nested_loop = convert_heights_nested_loop(customer_heights)\n",
    "    print(\"Heights in centimeters using Nested Loop:\", heights_nested_loop)\n",
    "\n",
    "    heights_comprehension = convert_heights_list_comprehension(customer_heights)\n",
    "    print(\"Heights in centimeters using List Comprehension:\", heights_comprehension)\n",
    "\n",
    "if __name__ == \"__main__\":\n",
    "    main()\n"
   ]
  },
  {
   "cell_type": "code",
   "execution_count": null,
   "id": "15b0c684-3c06-4a49-b808-939c7a1ebb8f",
   "metadata": {},
   "outputs": [],
   "source": []
  }
 ],
 "metadata": {
  "kernelspec": {
   "display_name": "Python 3 (ipykernel)",
   "language": "python",
   "name": "python3"
  },
  "language_info": {
   "codemirror_mode": {
    "name": "ipython",
    "version": 3
   },
   "file_extension": ".py",
   "mimetype": "text/x-python",
   "name": "python",
   "nbconvert_exporter": "python",
   "pygments_lexer": "ipython3",
   "version": "3.12.1"
  }
 },
 "nbformat": 4,
 "nbformat_minor": 5
}
