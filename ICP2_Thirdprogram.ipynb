{
 "cells": [
  {
   "cell_type": "code",
   "execution_count": 6,
   "id": "ddfb02e5-f073-4c51-a3c2-90902cd553d7",
   "metadata": {},
   "outputs": [
    {
     "name": "stdin",
     "output_type": "stream",
     "text": [
      "Enter the number of customers:  2\n",
      "Enter height for customer 1 in inches:  60\n",
      "Enter height for customer 2 in inches:  64\n"
     ]
    },
    {
     "name": "stdout",
     "output_type": "stream",
     "text": [
      "Heights in centimeters using Nested Loop: [152.4, 162.56]\n",
      "Heights in centimeters using List Comprehension: [152.4, 162.56]\n"
     ]
    }
   ],
   "source": [
    "def convert_heights_nested(h_inches):\n",
    "    h_centimeters = []\n",
    "\n",
    "    for inch in h_inches:\n",
    "        cm = round(inch * 2.54, 2)\n",
    "        h_centimeters.append(cm)\n",
    "\n",
    "    return h_centimeters\n",
    "\n",
    "def convert_heights_comprehension(h_inches):\n",
    "    h_centimeters = [round(inch * 2.54, 2) for inch in h_inches]\n",
    "\n",
    "    return h_centimeters\n",
    "\n",
    "def main():\n",
    "    h_inches = []\n",
    "    num_customers = int(input(\"Enter the number of customers: \"))\n",
    "\n",
    "    for i in range(num_customers):\n",
    "        height = float(input(f\"Enter height for customer {i+1} in inches: \"))\n",
    "        h_inches.append(height)\n",
    "\n",
    "    h_centimeters_nested = convert_heights_nested(h_inches)\n",
    "    print(\"Heights in centimeters using Nested Loop:\", h_centimeters_nested)\n",
    "\n",
    "    h_centimeters_comprehension = convert_heights_comprehension(h_inches)\n",
    "    print(\"Heights in centimeters using List Comprehension:\", h_centimeters_comprehension)\n",
    "\n",
    "if __name__ == \"__main__\":\n",
    "    main()\n"
   ]
  },
  {
   "cell_type": "code",
   "execution_count": null,
   "id": "132879de-47b7-400e-9881-150b0173dba0",
   "metadata": {},
   "outputs": [],
   "source": []
  }
 ],
 "metadata": {
  "kernelspec": {
   "display_name": "Python 3 (ipykernel)",
   "language": "python",
   "name": "python3"
  },
  "language_info": {
   "codemirror_mode": {
    "name": "ipython",
    "version": 3
   },
   "file_extension": ".py",
   "mimetype": "text/x-python",
   "name": "python",
   "nbconvert_exporter": "python",
   "pygments_lexer": "ipython3",
   "version": "3.12.1"
  }
 },
 "nbformat": 4,
 "nbformat_minor": 5
}
